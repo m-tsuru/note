{
  "cells": [
    {
      "cell_type": "markdown",
      "metadata": {
        "id": "GIuBNCG_GbF2"
      },
      "source": [
        "# プログラミングⅠ （第2回）\n",
        "\n",
        "文字列の操作\n",
        "\n",
        "教科書：Chapter 3 - Section 4\n"
      ]
    },
    {
      "cell_type": "markdown",
      "metadata": {
        "id": "dhhwWshdOlar"
      },
      "source": [
        "### 例題1\n",
        "\n",
        "二次方程式$ax^2+bx+c=0$において，$a, b, c$（ただし，すべて整数とする）をそれぞれキーボードから入力します．判別式$D=b^2-4ac$を計算し，表示しましょう．\n",
        "\n",
        "（実行例）\n",
        "```\n",
        "a:2\n",
        "b:4\n",
        "c:1\n",
        "判別式D=8\n",
        "```\n",
        "```\n",
        "a:3\n",
        "b:1\n",
        "c:5\n",
        "判別式D=-59\n",
        "```"
      ]
    },
    {
      "cell_type": "code",
      "execution_count": 20,
      "metadata": {
        "id": "FCceSJJ3RFA4"
      },
      "outputs": [
        {
          "name": "stdout",
          "output_type": "stream",
          "text": [
            "判別式D= 8\n"
          ]
        }
      ],
      "source": [
        "# 以下にコードを書きましょう\n",
        "\n",
        "a = input('a:')\n",
        "b = input('b:')\n",
        "c = input('c:')\n",
        "\n",
        "try:\n",
        "    (a, b, c) = (int(a), int(b), int(c))\n",
        "except ValueError as e:\n",
        "    print(\"値が不正です:\", e)\n",
        "else: \n",
        "    d = b ** 2 - 4 * a * c\n",
        "    print(\"判別式D=\" + d)\n"
      ]
    },
    {
      "cell_type": "markdown",
      "metadata": {
        "id": "qbgnd6GB0B84"
      },
      "source": [
        "### 例題2"
      ]
    },
    {
      "cell_type": "markdown",
      "metadata": {
        "id": "FZjZjjaf0IXq"
      },
      "source": [
        "変数xに，文字列HiroshimaCityを代入した後，Hiroshimaという文字列を取り出し表示する"
      ]
    },
    {
      "cell_type": "code",
      "execution_count": 8,
      "metadata": {
        "id": "m23l5d880IBh"
      },
      "outputs": [
        {
          "name": "stdout",
          "output_type": "stream",
          "text": [
            "Hiroshima\n"
          ]
        }
      ],
      "source": [
        "# 以下にコードを書きましょう\n",
        "\n",
        "x = \"HiroshimaCity\"\n",
        "result = x[0:9]\n",
        "\n",
        "print(result)"
      ]
    },
    {
      "cell_type": "markdown",
      "metadata": {
        "id": "g-YKAFV40NrX"
      },
      "source": [
        "変数yに，文字列-W-E-L-C-O-M-E-という文字を代入した後，WELCOMEという文字列を取り出し表示する"
      ]
    },
    {
      "cell_type": "code",
      "execution_count": 11,
      "metadata": {
        "id": "tNh6cjb10Dpw"
      },
      "outputs": [
        {
          "name": "stdout",
          "output_type": "stream",
          "text": [
            "WELCOME\n"
          ]
        }
      ],
      "source": [
        "# 以下にコードを書きましょう\n",
        "\n",
        "y = \"-W-E-L-C-O-M-E-\"\n",
        "result = y[1::2]\n",
        "\n",
        "print(result)\n"
      ]
    },
    {
      "cell_type": "markdown",
      "metadata": {
        "id": "c2jVhM5TDB_P"
      },
      "source": [
        "キーボードから入力した文字列zを，末尾から逆順に表示する"
      ]
    },
    {
      "cell_type": "code",
      "execution_count": 15,
      "metadata": {
        "id": "qOvXgntk0eqC"
      },
      "outputs": [
        {
          "name": "stdout",
          "output_type": "stream",
          "text": [
            "gfedcba\n"
          ]
        }
      ],
      "source": [
        "# 以下にコードを書きましょう\n",
        "\n",
        "z = input(\"文字列: \")\n",
        "result = z[::-1]\n",
        "\n",
        "print(result)"
      ]
    },
    {
      "cell_type": "markdown",
      "metadata": {
        "id": "6V8xPnnpVT6b"
      },
      "source": [
        "###例題3\n",
        "\n",
        "キーボードから入力した文字列xの文字数を表示するプログラムを作成しましょう．\n",
        "\n",
        "（実行例）\n",
        "```\n",
        "文字列x：information\n",
        "文字列xは11文字\n",
        "```"
      ]
    },
    {
      "cell_type": "code",
      "execution_count": 17,
      "metadata": {
        "id": "zHtO4IS5YB2p"
      },
      "outputs": [
        {
          "name": "stdout",
          "output_type": "stream",
          "text": [
            "文字列xは11文字\n"
          ]
        }
      ],
      "source": [
        "# 以下にコードを書きましょう\n",
        "\n",
        "x = input(\"文字列x：\")\n",
        "print(f\"文字列xは{len(x)}文字\")"
      ]
    }
  ],
  "metadata": {
    "colab": {
      "provenance": []
    },
    "kernelspec": {
      "display_name": "Python 3",
      "name": "python3"
    },
    "language_info": {
      "codemirror_mode": {
        "name": "ipython",
        "version": 3
      },
      "file_extension": ".py",
      "mimetype": "text/x-python",
      "name": "python",
      "nbconvert_exporter": "python",
      "pygments_lexer": "ipython3",
      "version": "3.12.2"
    }
  },
  "nbformat": 4,
  "nbformat_minor": 0
}
