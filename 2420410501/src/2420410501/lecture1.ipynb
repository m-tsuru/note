{
  "cells": [
    {
      "cell_type": "markdown",
      "metadata": {
        "id": "GIuBNCG_GbF2"
      },
      "source": [
        "# プログラミングⅠ （第１回）\n",
        "\n",
        "プログラミングの基本（型，変数，整数，実数，文字列，および標準入出力）\n",
        "\n",
        "教科書：Chapter 3, p.51, p.196"
      ]
    },
    {
      "cell_type": "markdown",
      "metadata": {
        "id": "_MSAlwWyRAMz"
      },
      "source": [
        "**お願い**\n",
        "*  メニューの「ファイル」-「ドライブにコピーを保存」を選択し，自分の Google ドライブに，このファイルを保存しましょう．\n",
        "* ファイルを保存した後，入力や操作をしましょう．\n",
        "* 困ったことや分からないことがあったら，教室の教員やTAに質問しましょう．"
      ]
    },
    {
      "cell_type": "markdown",
      "metadata": {
        "id": "LXg3qN_edz44"
      },
      "source": [
        "### 例題1\n",
        "\n",
        "次の計算を実行し結果を確認しましょう．\n",
        "\n",
        "(1) $2+3\\times 2$\n",
        "\n",
        "(2) $10 \\div 2.5$\n",
        "\n",
        "(3) $3 \\div 0$　（0での除算は不可能なので，エラー表示）"
      ]
    },
    {
      "cell_type": "code",
      "execution_count": 24,
      "metadata": {
        "id": "mYKARCiTjFKU"
      },
      "outputs": [
        {
          "name": "stdout",
          "output_type": "stream",
          "text": [
            "8\n",
            "4.0\n",
            "division by zero\n"
          ]
        }
      ],
      "source": [
        "# プログラムを書いてみよう\n",
        "\n",
        "## (1)\n",
        "print(2 + 3 * 2)\n",
        "## (2)\n",
        "print(10 / 2.5)\n",
        "## (3)\n",
        "try: \n",
        "    print(3 / 0)\n",
        "except ZeroDivisionError as e:\n",
        "    print(e)\n",
        "\n"
      ]
    },
    {
      "cell_type": "markdown",
      "metadata": {
        "id": "fiVaKgcQV3uB"
      },
      "source": [
        "### 例題2\n",
        "型変換しよう．（スライド中の式を入力し，結果を確認しましょう．）"
      ]
    },
    {
      "cell_type": "code",
      "execution_count": 25,
      "metadata": {
        "id": "KYeTddh8lJXE"
      },
      "outputs": [
        {
          "data": {
            "text/plain": [
              "3"
            ]
          },
          "execution_count": 25,
          "metadata": {},
          "output_type": "execute_result"
        }
      ],
      "source": [
        "# 3.14をint型に変換\n",
        "\n",
        "int(3.14)\n"
      ]
    },
    {
      "cell_type": "code",
      "execution_count": 26,
      "metadata": {
        "id": "chTiIXQEltn7"
      },
      "outputs": [
        {
          "data": {
            "text/plain": [
              "123.0"
            ]
          },
          "execution_count": 26,
          "metadata": {},
          "output_type": "execute_result"
        }
      ],
      "source": [
        "# 123をfloat型に変換\n",
        "float(123)\n"
      ]
    },
    {
      "cell_type": "code",
      "execution_count": 27,
      "metadata": {
        "id": "GW2W1oCGlwI7"
      },
      "outputs": [
        {
          "name": "stdout",
          "output_type": "stream",
          "text": [
            "ValueError: invalid literal for int() with base 10: 'abc'\n"
          ]
        }
      ],
      "source": [
        "# 文字列abcをint型に変換\n",
        "try:\n",
        "    int(\"abc\")\n",
        "except ValueError as e:\n",
        "    print(\"ValueError: \" + str(e))"
      ]
    },
    {
      "cell_type": "markdown",
      "metadata": {
        "id": "twFEy3_eseYv"
      },
      "source": [
        "文字列を連結しよう．"
      ]
    },
    {
      "cell_type": "code",
      "execution_count": 28,
      "metadata": {
        "id": "C79grruNq2OV"
      },
      "outputs": [
        {
          "name": "stdout",
          "output_type": "stream",
          "text": [
            "hello.txt\n"
          ]
        }
      ],
      "source": [
        "# 文字列「hello」と文字列「.txt」を連結した文字列を変数aに代入\n",
        "\n",
        "a = \"hello\" + \".txt\"\n",
        "print(a)"
      ]
    },
    {
      "cell_type": "code",
      "execution_count": 29,
      "metadata": {
        "id": "OuCL87RsszE0"
      },
      "outputs": [
        {
          "name": "stdout",
          "output_type": "stream",
          "text": [
            "version1.0\n"
          ]
        }
      ],
      "source": [
        "# 文字列「version」と数値「1.0」を連結した文字列を変数bに代入\n",
        "\n",
        "b = \"version\" + str(1.0)\n",
        "print(b)\n"
      ]
    },
    {
      "cell_type": "code",
      "execution_count": 30,
      "metadata": {
        "id": "TepH2Tvos0IT"
      },
      "outputs": [
        {
          "name": "stdout",
          "output_type": "stream",
          "text": [
            "-+--+--+--+--+--+--+--+--+--+-\n"
          ]
        }
      ],
      "source": [
        "# 10個の文字列「-+-」を連結した文字列を変数cに代入\n",
        "\n",
        "c = \"-+-\" * 10\n",
        "print(c)"
      ]
    },
    {
      "cell_type": "markdown",
      "metadata": {
        "id": "NeYBnypTJOVj"
      },
      "source": [
        "### 例題3\n",
        "キーボードから入力した2つの整数を，底辺と高さとした三角形の面積を求めるプログラムを書こう．\n",
        "- 変数aに，キーボードから入力した底辺を代入\n",
        "- 変数bに，キーボードから入力した高さを代入\n",
        "- 三角形の面積を計算し，表示"
      ]
    },
    {
      "cell_type": "code",
      "execution_count": 1,
      "metadata": {
        "id": "Bv61Rli3JRa9"
      },
      "outputs": [
        {
          "name": "stdout",
          "output_type": "stream",
          "text": [
            "値が不正です: could not convert string to float: ''\n"
          ]
        }
      ],
      "source": [
        "# プログラムを書いてみよう\n",
        "try:\n",
        "    a : float = float(input(\"Base: \"))\n",
        "    b : float = float(input(\"Height: \"))\n",
        "    result : float = (a * b) / 2\n",
        "    print(result)\n",
        "except ValueError as e: # 不正な入力\n",
        "    print(f\"値が不正です: {e}\")"
      ]
    }
  ],
  "metadata": {
    "colab": {
      "provenance": []
    },
    "kernelspec": {
      "display_name": "Python 3",
      "name": "python3"
    },
    "language_info": {
      "codemirror_mode": {
        "name": "ipython",
        "version": 3
      },
      "file_extension": ".py",
      "mimetype": "text/x-python",
      "name": "python",
      "nbconvert_exporter": "python",
      "pygments_lexer": "ipython3",
      "version": "3.12.2"
    }
  },
  "nbformat": 4,
  "nbformat_minor": 0
}
