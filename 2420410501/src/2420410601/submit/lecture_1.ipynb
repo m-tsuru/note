{
  "cells": [
    {
      "cell_type": "markdown",
      "metadata": {
        "id": "l-bYbmjqal79"
      },
      "source": [
        "# プログラミングⅠ演習 第1回課題\n"
      ]
    },
    {
      "cell_type": "markdown",
      "metadata": {
        "id": "Xcg6iddBZRvX"
      },
      "source": [
        "本日の教科書の範囲は，以下です．\n",
        "\n",
        "* Chapter 3"
      ]
    },
    {
      "cell_type": "markdown",
      "metadata": {
        "id": "UGPoTxZ73tPx"
      },
      "source": [
        "---\n",
        "## 【重要】答案の提出\n",
        "以下の手順で答案を提出すること．\n",
        "\n",
        "1. メニューの「ファイル」-「ドライブにコピーを保存」を選択し，自分のGoogleドライブに課題を保存する．\n",
        "2. ファイル名を「(学籍番号)-1.ipynb」(学籍番号が2420999なら 2420999-1.ipynb）に変更する．\n",
        "3. 課題に取り組む．\n",
        "4. メニューの「ファイル」-「ダウンロード」-「.ipynbファイルをダウンロード」を選択し，提出用ファイル(2420999-1.ipynb)をダウンロードする．\n",
        "5. ダウンロードしたファイルをWebClassに提出する．\n",
        "\n"
      ]
    },
    {
      "cell_type": "markdown",
      "metadata": {
        "id": "j6SzRQ2kM9yO"
      },
      "source": [
        "## 問題1\n",
        "次の値をプログラムで計算し，結果を出力しましょう．\n",
        "\n",
        "(1) 100を9で割った商\n",
        "\n",
        "(2) 1000を7で割った余り\n",
        "\n",
        "(3) 3の5乗"
      ]
    },
    {
      "cell_type": "code",
      "execution_count": 8,
      "metadata": {
        "colab": {
          "base_uri": "https://localhost:8080/"
        },
        "id": "RXDnVZAmNP_P",
        "outputId": "25147248-89c2-4375-a908-10a28f0dc24c"
      },
      "outputs": [
        {
          "name": "stdout",
          "output_type": "stream",
          "text": [
            "11.11111111111111\n",
            "2\n",
            "243\n"
          ]
        }
      ],
      "source": [
        "# (1)のコードを書きましょう\n",
        "print(100 / 9)\n",
        "\n",
        "# (2)のコードを書きましょう\n",
        "print(100 % 7)\n",
        "\n",
        "# (3)のコードを書きましょう\n",
        "print(3 ** 5)\n"
      ]
    },
    {
      "cell_type": "markdown",
      "metadata": {
        "id": "jxVckIRFyHnh"
      },
      "source": [
        "## 問題2\n",
        "\n",
        "変数piに，円周率が小数点以下12桁まで代入されています．\n",
        "\n",
        "実行例が示す通り，この変数の整数部をおよその円周率とし，半径2の円の面積を表示するプログラムを作成しましょう．\n",
        "\n",
        "---\n",
        "（実行例）\n",
        "\n",
        "円周率はおよそ3\n",
        "\n",
        "このとき，半径2の円の面積は12"
      ]
    },
    {
      "cell_type": "code",
      "execution_count": 9,
      "metadata": {
        "colab": {
          "base_uri": "https://localhost:8080/"
        },
        "id": "Fj6qTzh_yKIW",
        "outputId": "f82391da-d360-406a-e207-94eefc514116"
      },
      "outputs": [
        {
          "name": "stdout",
          "output_type": "stream",
          "text": [
            "円周率はおよそ3\n",
            "このとき，半径2の円の面積は12\n",
            "\n"
          ]
        }
      ],
      "source": [
        "pi = 3.141592653589\n",
        "\n",
        "# 続きのコードを書きましょう\n",
        "result = \"\"\n",
        "piInt = int(pi)\n",
        "r = 2 # 半径\n",
        "\n",
        "result = piInt * (r ** 2)\n",
        "print(f\"\"\"円周率はおよそ{piInt}\n",
        "このとき，半径{r}の円の面積は{result}\n",
        "\"\"\")\n",
        "\n"
      ]
    },
    {
      "cell_type": "markdown",
      "metadata": {
        "id": "KCgzVS0ND2k_"
      },
      "source": [
        "## 問題3\n",
        "キーボードから，2つの文字列を読み込みます．\n",
        "\n",
        "1つ目の文字列として挨拶を入力し，変数greetingに代入します．\n",
        "\n",
        "2つ目の文字列として名前を入力し，変数nameに代入します．\n",
        "\n",
        "この2つの文字列を利用し，下に示す実行例となるように，文字列を連結させて表示しましょう．\n",
        "\n",
        "---\n",
        "（実行例）※太字は，キーボードから入力\n",
        "\n",
        "あいさつは？：**こんにちは**\n",
        "\n",
        "名前は？：**太郎**\n",
        "\n",
        "太郎さん，こんにちは"
      ]
    },
    {
      "cell_type": "code",
      "execution_count": 10,
      "metadata": {
        "colab": {
          "base_uri": "https://localhost:8080/"
        },
        "id": "R5Tq9HHcD2OX",
        "outputId": "5fa22704-5334-4a15-e957-8102de6729ef"
      },
      "outputs": [
        {
          "name": "stdout",
          "output_type": "stream",
          "text": [
            "太郎さん，こんにちは\n"
          ]
        }
      ],
      "source": [
        "# コードを書きましょう\n",
        "\n",
        "greeting = input(\"あいさつは？：\")\n",
        "name = input(\"名前は？：\")\n",
        "\n",
        "result = name + \"さん，\" + greeting\n",
        "print(result)\n"
      ]
    },
    {
      "cell_type": "markdown",
      "metadata": {
        "id": "i-UN0YN8-ULZ"
      },
      "source": [
        "## 問題4\n",
        "サンフレッチェ広島の昨シーズンの勝ち数，引き分け数，負け数を，キーボードから入力し，勝ち点を表示しましょう．\n",
        "\n",
        "各試合において，勝ちなら3点，引き分けなら1点とし，全試合におけるこの点数の合計が勝ち点となります．\n",
        "\n",
        "---\n",
        "（実行例）※太字は，キーボードから入力\n",
        "\n",
        "勝ち数：**15**\n",
        "\n",
        "分け数：**10**\n",
        "\n",
        "負け数：**9**\n",
        "\n",
        "勝点は55です．\n"
      ]
    },
    {
      "cell_type": "code",
      "execution_count": 11,
      "metadata": {
        "colab": {
          "base_uri": "https://localhost:8080/"
        },
        "id": "DuoRqWSx7HMB",
        "outputId": "f6dd49ea-1b15-4aca-aa3a-47402db46034"
      },
      "outputs": [
        {
          "name": "stdout",
          "output_type": "stream",
          "text": [
            "勝点は55です.\n"
          ]
        }
      ],
      "source": [
        "# コードを書きましょう\n",
        "\n",
        "try:\n",
        "  win = int(input(\"勝ち数: \"))\n",
        "  even = int(input(\"分け数: \"))\n",
        "  lose = int(input(\"負け数: \")) # 結果には影響しない\n",
        "except ValueError as e:\n",
        "  print(f\"値が不正です:\", e)\n",
        "else:\n",
        "  result = 3 * win + even\n",
        "  # result = 3 * win + 1 * even + 0 * lose\n",
        "  print(f\"勝点は{result}です.\")\n"
      ]
    },
    {
      "cell_type": "markdown",
      "metadata": {
        "id": "GhFb_pzk_X0Q"
      },
      "source": [
        "## 問題5（オプション）\n",
        "\n",
        "キーボードから入力された3桁の整数に対し，実行例が示すように各位の値を表示するプログラムを作成しましょう．\n",
        "\n",
        "ただし，第2回講義で学習するインデックスは使用しない方法を考えてみましょう．\n",
        "\n",
        "---\n",
        "（実行例）※太字は，キーボードから入力\n",
        "\n",
        "3桁の整数：**759**\n",
        "\n",
        "100の位は 7\n",
        "\n",
        "10の位は 5\n",
        "\n",
        "1の位は 9"
      ]
    },
    {
      "cell_type": "code",
      "execution_count": 12,
      "metadata": {
        "colab": {
          "base_uri": "https://localhost:8080/"
        },
        "id": "c19CNeVs_TH4",
        "outputId": "893f962c-9bb4-4575-ead2-ae1389f1d660"
      },
      "outputs": [
        {
          "name": "stdout",
          "output_type": "stream",
          "text": [
            "100の位は 7\n",
            "10の位は 5\n",
            "1の位は 9\n"
          ]
        }
      ],
      "source": [
        "# 値の入力と整数型への変換\n",
        "(x, y, z) = (0, 0, 0)\n",
        "\n",
        "try:\n",
        "  rawStr = input(\"3桁の整数：\")\n",
        "  value = int(rawStr)\n",
        "  if len(rawStr) != 3:\n",
        "    raise ValueError(\"The value 'rawStr' is not 3-digit\")\n",
        "except ValueError as e:\n",
        "  print(f\"入力された値 '{rawStr}' は不正な値です: {e}\")\n",
        "else:\n",
        "  # あまりを利用する\n",
        "  (x, y, z) = (\n",
        "    (value - value % 100) // 100,\n",
        "    (value % 100 - value % 10) // 10,\n",
        "    value % 10\n",
        "  )\n",
        "\n",
        "  # 商を利用する\n",
        "  # (x, y, z) = (\n",
        "  #     value // 100,\n",
        "  #     value // 10 - (value // 100 * 10),\n",
        "  #     value - value // 100 * 100 - (value // 10 - (value // 100 * 10)) * 10\n",
        "  # )\n",
        "\n",
        "  print(f\"100の位は {x}\")\n",
        "  print(f\"10の位は {y}\")\n",
        "  print(f\"1の位は {z}\")"
      ]
    },
    {
      "cell_type": "markdown",
      "metadata": {
        "id": "zd1oz6ihyXN7"
      },
      "source": [
        "## 問題6\n",
        "\n",
        "一部の自販機では、飲み物を購入した後に 7セグ の表示部 5 桁を用いて、次のようなルーレットを実行し成功したら、ジュースがもう一本もらえるというシステムがあります。\n",
        "\n",
        "### 問題6-1\n",
        "A さんは、7セグの画面だと当たったかどうかがわからないという苦情が来たので、当たった時に、数値を表示した後に、\"-HIt-\" という言葉を表示する開発をさせられました。そのプロトタイプとして、与えられた 5 桁の整数が含む文字が全て同じであれば、`-HIt-` (7セグ) という文字をコンソールに出力するプログラムを制作することにしました。あとから用いられるように関数化して、この課題を解きなさい。\n"
      ]
    },
    {
      "cell_type": "code",
      "execution_count": 13,
      "metadata": {
        "colab": {
          "base_uri": "https://localhost:8080/"
        },
        "id": "101OmTUf87Fj",
        "outputId": "6496b8c0-ae4f-4621-b84e-2633a96a6dbd"
      },
      "outputs": [
        {
          "name": "stdout",
          "output_type": "stream",
          "text": [
            "-HIt-\n",
            "値が不正です: The value 'rawStr' is not 5-digit\n"
          ]
        }
      ],
      "source": [
        "def hit(rawStr):\n",
        "  rawStr = str(rawStr)\n",
        "  try:\n",
        "    if len(rawStr) != 5:\n",
        "      raise ValueError(\"The value 'rawStr' is not 5-digit\")\n",
        "    elif rawStr.isdigit() != True:\n",
        "      raise ValueError(\"The value 'rawStr' is not numeric\")\n",
        "  except ValueError as e:\n",
        "    print(f\"値が不正です: {e}\")\n",
        "  else:\n",
        "    if rawStr[0] == rawStr[1] == rawStr[2] == rawStr[3] == rawStr[4]:\n",
        "      print(\"-HIt-\")\n",
        "\n",
        "hit(11111)\n",
        "hit(37564)\n",
        "hit(\"sasakulari\")"
      ]
    },
    {
      "cell_type": "markdown",
      "metadata": {
        "id": "VHZ0lEvp_tuY"
      },
      "source": [
        "\n",
        "### 問題6-2\n",
        "A さんは、ルーレットについて、はじめ５桁の乱数を作り出せばルーレットになると考えていました。\n",
        "\n",
        "```python\n",
        "import random\n",
        "res = random.randInt(10000, 99999)\n",
        "hit(res)\n",
        "```\n",
        "\n",
        "しかし向かいのダイドーのルーレットをみてみると、初めの四桁は思わせぶりに同じ数字を出して当たったように見せかけて、最後だけ違う数を表示していることに気づきました。確かにそのようにしたほうがドキドキします。最後の数もなんでもいいわけではなく、四つ出ていた数字の一つ上みたいです。実装しましょう。\n",
        "\n",
        "ただし、1/10000 の確率で当選するものとします。\n",
        "\n",
        "なお、実装には文字列の連結を利用できることとします。"
      ]
    },
    {
      "cell_type": "code",
      "execution_count": 14,
      "metadata": {
        "colab": {
          "base_uri": "https://localhost:8080/"
        },
        "id": "ly7cg14U_tOd",
        "outputId": "116c35e6-813c-485a-a8f5-e3bafd7c98fc"
      },
      "outputs": [
        {
          "name": "stdout",
          "output_type": "stream",
          "text": [
            "77778\n"
          ]
        }
      ],
      "source": [
        "import random\n",
        "\n",
        "singleInt = random.randint(0, 9)\n",
        "singleIntPlusOne = singleInt + 1\n",
        "if singleIntPlusOne == 10:\n",
        "  singleIntPlusOne = 0\n",
        "if (random.randint(0, 9999) == 0):\n",
        "  res = str(singleInt) * 5\n",
        "else:\n",
        "  res = str(singleInt) * 4 + str(singleIntPlusOne)\n",
        "\n",
        "print(res)\n",
        "hit(res)"
      ]
    }
  ],
  "metadata": {
    "colab": {
      "provenance": []
    },
    "kernelspec": {
      "display_name": "Python 3",
      "name": "python3"
    },
    "language_info": {
      "codemirror_mode": {
        "name": "ipython",
        "version": 3
      },
      "file_extension": ".py",
      "mimetype": "text/x-python",
      "name": "python",
      "nbconvert_exporter": "python",
      "pygments_lexer": "ipython3",
      "version": "3.12.2"
    }
  },
  "nbformat": 4,
  "nbformat_minor": 0
}
